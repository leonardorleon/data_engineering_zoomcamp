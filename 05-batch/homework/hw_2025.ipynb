{
 "cells": [
  {
   "cell_type": "code",
   "execution_count": 12,
   "id": "892a279e-f7e6-4aaa-be08-d3f29078de84",
   "metadata": {},
   "outputs": [],
   "source": [
    "import pyspark\n",
    "from pyspark.sql import SparkSession\n",
    "from pyspark.sql import functions as F"
   ]
  },
  {
   "cell_type": "code",
   "execution_count": 2,
   "id": "bf1d3c5b-2bad-43ca-a60d-bf071607c7c5",
   "metadata": {},
   "outputs": [
    {
     "data": {
      "text/plain": [
       "'3.5.4'"
      ]
     },
     "execution_count": 2,
     "metadata": {},
     "output_type": "execute_result"
    }
   ],
   "source": [
    "pyspark.__version__"
   ]
  },
  {
   "cell_type": "code",
   "execution_count": 3,
   "id": "449d7f6b-cdb2-4e7c-a6f6-b1fae080cb54",
   "metadata": {},
   "outputs": [
    {
     "name": "stderr",
     "output_type": "stream",
     "text": [
      "Setting default log level to \"WARN\".\n",
      "To adjust logging level use sc.setLogLevel(newLevel). For SparkR, use setLogLevel(newLevel).\n",
      "25/03/05 17:42:00 WARN NativeCodeLoader: Unable to load native-hadoop library for your platform... using builtin-java classes where applicable\n"
     ]
    }
   ],
   "source": [
    "#1 Question 1: Install Spark and PySpark\n",
    "spark = SparkSession.builder \\\n",
    "        .master(\"local[*]\") \\\n",
    "        .appName('test') \\\n",
    "        .getOrCreate()"
   ]
  },
  {
   "cell_type": "code",
   "execution_count": 4,
   "id": "85bede32-0851-44f1-aa29-d77ac694e3f5",
   "metadata": {},
   "outputs": [
    {
     "data": {
      "text/plain": [
       "'3.5.4'"
      ]
     },
     "execution_count": 4,
     "metadata": {},
     "output_type": "execute_result"
    }
   ],
   "source": [
    "spark.version"
   ]
  },
  {
   "cell_type": "code",
   "execution_count": 5,
   "id": "a038dc39-dcee-471f-adf0-541aed6cd09d",
   "metadata": {},
   "outputs": [
    {
     "name": "stdout",
     "output_type": "stream",
     "text": [
      "--2025-03-05 17:43:26--  https://d37ci6vzurychx.cloudfront.net/trip-data/yellow_tripdata_2024-10.parquet\n",
      "Resolving d37ci6vzurychx.cloudfront.net (d37ci6vzurychx.cloudfront.net)... 18.155.128.222, 18.155.128.6, 18.155.128.46, ...\n",
      "Connecting to d37ci6vzurychx.cloudfront.net (d37ci6vzurychx.cloudfront.net)|18.155.128.222|:443... connected.\n",
      "HTTP request sent, awaiting response... 200 OK\n",
      "Length: 64346071 (61M) [binary/octet-stream]\n",
      "Saving to: ‘yellow_tripdata_2024-10.parquet’\n",
      "\n",
      "yellow_tripdata_202 100%[===================>]  61.36M   184MB/s    in 0.3s    \n",
      "\n",
      "2025-03-05 17:43:26 (184 MB/s) - ‘yellow_tripdata_2024-10.parquet’ saved [64346071/64346071]\n",
      "\n"
     ]
    }
   ],
   "source": [
    "!wget https://d37ci6vzurychx.cloudfront.net/trip-data/yellow_tripdata_2024-10.parquet"
   ]
  },
  {
   "cell_type": "code",
   "execution_count": 29,
   "id": "2068a016-acaa-4f17-8ebf-81221dca86ab",
   "metadata": {},
   "outputs": [],
   "source": [
    "# Question 2: Yellow October 2024\n",
    "\n",
    "df = spark.read.parquet('yellow_tripdata_2024-10.parquet').repartition(4)"
   ]
  },
  {
   "cell_type": "code",
   "execution_count": 7,
   "id": "c2abd2f5-6c98-4f25-8be8-47ca4fdf2e6d",
   "metadata": {},
   "outputs": [
    {
     "name": "stderr",
     "output_type": "stream",
     "text": [
      "                                                                                \r"
     ]
    }
   ],
   "source": [
    "df.write.parquet('hw/')"
   ]
  },
  {
   "cell_type": "code",
   "execution_count": 9,
   "id": "32b8920f-2b1e-4262-b59b-66dd9e8a7ca4",
   "metadata": {},
   "outputs": [
    {
     "name": "stdout",
     "output_type": "stream",
     "text": [
      "total 90M\n",
      "-rw-r--r-- 1 leo leo   0 Mar  5 17:49 _SUCCESS\n",
      "-rw-r--r-- 1 leo leo 23M Mar  5 17:49 part-00000-2f1e1d06-195b-4637-8005-4f2beeaf27f5-c000.snappy.parquet\n",
      "-rw-r--r-- 1 leo leo 23M Mar  5 17:49 part-00001-2f1e1d06-195b-4637-8005-4f2beeaf27f5-c000.snappy.parquet\n",
      "-rw-r--r-- 1 leo leo 23M Mar  5 17:49 part-00002-2f1e1d06-195b-4637-8005-4f2beeaf27f5-c000.snappy.parquet\n",
      "-rw-r--r-- 1 leo leo 23M Mar  5 17:49 part-00003-2f1e1d06-195b-4637-8005-4f2beeaf27f5-c000.snappy.parquet\n"
     ]
    }
   ],
   "source": [
    "!ls -lh hw"
   ]
  },
  {
   "cell_type": "code",
   "execution_count": null,
   "id": "d872e69f-9141-4751-83e2-910256be96a5",
   "metadata": {},
   "outputs": [],
   "source": [
    "# so they are approximately 25MB"
   ]
  },
  {
   "cell_type": "code",
   "execution_count": 11,
   "id": "f2657002-0d98-4b37-88fb-caaaedf7e5cb",
   "metadata": {},
   "outputs": [
    {
     "name": "stderr",
     "output_type": "stream",
     "text": [
      "[Stage 7:==============>                                            (1 + 3) / 4]\r"
     ]
    },
    {
     "name": "stdout",
     "output_type": "stream",
     "text": [
      "+--------------------+\n",
      "|tpep_pickup_datetime|\n",
      "+--------------------+\n",
      "| 2024-10-01 22:46:41|\n",
      "| 2024-10-09 22:11:58|\n",
      "| 2024-10-03 08:41:40|\n",
      "| 2024-10-09 13:56:51|\n",
      "| 2024-10-09 10:36:09|\n",
      "| 2024-10-08 12:44:13|\n",
      "| 2024-10-02 20:19:21|\n",
      "| 2024-10-02 12:04:58|\n",
      "| 2024-10-02 20:40:44|\n",
      "| 2024-10-02 17:09:58|\n",
      "| 2024-10-05 02:59:55|\n",
      "| 2024-10-01 23:00:00|\n",
      "| 2024-10-03 23:50:44|\n",
      "| 2024-10-08 10:26:57|\n",
      "| 2024-10-06 12:03:45|\n",
      "| 2024-10-10 16:17:27|\n",
      "| 2024-10-02 18:41:49|\n",
      "| 2024-10-03 13:35:04|\n",
      "| 2024-10-02 16:31:40|\n",
      "| 2024-10-09 20:33:58|\n",
      "+--------------------+\n",
      "only showing top 20 rows\n",
      "\n"
     ]
    },
    {
     "name": "stderr",
     "output_type": "stream",
     "text": [
      "                                                                                \r"
     ]
    }
   ],
   "source": [
    "# Question 3: Count records\n",
    "\n",
    "df.select('tpep_pickup_datetime').show()"
   ]
  },
  {
   "cell_type": "code",
   "execution_count": 25,
   "id": "ca2b1654-af19-40da-ab50-b078358430ac",
   "metadata": {},
   "outputs": [
    {
     "data": {
      "text/plain": [
       "128893"
      ]
     },
     "execution_count": 25,
     "metadata": {},
     "output_type": "execute_result"
    }
   ],
   "source": [
    "df.select('tpep_pickup_datetime','tpep_dropoff_datetime','PULocationID','DOLocationID')\\\n",
    "    .withColumn('pickup_date', F.to_date(df.tpep_pickup_datetime))\\\n",
    "    .filter(F.col('pickup_date') == '2024-10-15').count()"
   ]
  },
  {
   "cell_type": "code",
   "execution_count": 26,
   "id": "c559e010-b1f8-47fc-aa6c-a3af7ec9d0a3",
   "metadata": {},
   "outputs": [],
   "source": [
    "# closest answer is: 125,567"
   ]
  },
  {
   "cell_type": "code",
   "execution_count": 27,
   "id": "25def5a4-a852-432c-82c9-cb19f519b3ac",
   "metadata": {},
   "outputs": [
    {
     "name": "stdout",
     "output_type": "stream",
     "text": [
      "root\n",
      " |-- VendorID: integer (nullable = true)\n",
      " |-- tpep_pickup_datetime: timestamp_ntz (nullable = true)\n",
      " |-- tpep_dropoff_datetime: timestamp_ntz (nullable = true)\n",
      " |-- passenger_count: long (nullable = true)\n",
      " |-- trip_distance: double (nullable = true)\n",
      " |-- RatecodeID: long (nullable = true)\n",
      " |-- store_and_fwd_flag: string (nullable = true)\n",
      " |-- PULocationID: integer (nullable = true)\n",
      " |-- DOLocationID: integer (nullable = true)\n",
      " |-- payment_type: long (nullable = true)\n",
      " |-- fare_amount: double (nullable = true)\n",
      " |-- extra: double (nullable = true)\n",
      " |-- mta_tax: double (nullable = true)\n",
      " |-- tip_amount: double (nullable = true)\n",
      " |-- tolls_amount: double (nullable = true)\n",
      " |-- improvement_surcharge: double (nullable = true)\n",
      " |-- total_amount: double (nullable = true)\n",
      " |-- congestion_surcharge: double (nullable = true)\n",
      " |-- Airport_fee: double (nullable = true)\n",
      "\n"
     ]
    }
   ],
   "source": [
    "# Question 4: Longest trip\n",
    "\n",
    "df.printSchema()"
   ]
  },
  {
   "cell_type": "code",
   "execution_count": 39,
   "id": "edf5cacd-ce8d-442d-84b0-e3fdfd3beff5",
   "metadata": {},
   "outputs": [
    {
     "name": "stderr",
     "output_type": "stream",
     "text": [
      "[Stage 77:===========================================>              (3 + 1) / 4]\r"
     ]
    },
    {
     "name": "stdout",
     "output_type": "stream",
     "text": [
      "longest_trip: 162.61777777777777\n"
     ]
    },
    {
     "name": "stderr",
     "output_type": "stream",
     "text": [
      "                                                                                \r"
     ]
    }
   ],
   "source": [
    "longest_trip = df.select('tpep_pickup_datetime','tpep_dropoff_datetime') \\\n",
    "    .withColumn('trip_time_seconds', F.unix_timestamp('tpep_dropoff_datetime') - F.unix_timestamp('tpep_pickup_datetime') ) \\\n",
    "    .withColumn('trip_time_hours', F.col('trip_time_seconds')/3600) \\\n",
    "    .agg({'trip_time_hours': 'max'}) \\\n",
    "    .collect()[0][0]\n",
    "\n",
    "print(f'longest_trip: {longest_trip}')"
   ]
  },
  {
   "cell_type": "code",
   "execution_count": 46,
   "id": "db5e509e-fc47-41cb-aa0a-7f982af3fc88",
   "metadata": {},
   "outputs": [
    {
     "name": "stderr",
     "output_type": "stream",
     "text": [
      "[Stage 113:============================>                            (2 + 2) / 4]\r"
     ]
    },
    {
     "name": "stdout",
     "output_type": "stream",
     "text": [
      "{'max(trip_time_hours)': 162.61777777777777}\n"
     ]
    },
    {
     "name": "stderr",
     "output_type": "stream",
     "text": [
      "                                                                                \r"
     ]
    }
   ],
   "source": [
    "# another option:\n",
    "\n",
    "longest_trip = df.select('tpep_pickup_datetime','tpep_dropoff_datetime') \\\n",
    "    .withColumn('trip_time_seconds', F.unix_timestamp('tpep_dropoff_datetime') - F.unix_timestamp('tpep_pickup_datetime') ) \\\n",
    "    .withColumn('trip_time_hours', F.col('trip_time_seconds')/3600) \\\n",
    "    .groupby() \\\n",
    "    .max('trip_time_hours') \\\n",
    "    .collect()[0].asDict()\n",
    "\n",
    "print(f'{longest_trip}')"
   ]
  },
  {
   "cell_type": "code",
   "execution_count": 47,
   "id": "42c8cb42-c320-4339-bda8-547be03e9547",
   "metadata": {},
   "outputs": [
    {
     "name": "stdout",
     "output_type": "stream",
     "text": [
      "--2025-03-05 18:22:42--  https://d37ci6vzurychx.cloudfront.net/misc/taxi_zone_lookup.csv\n",
      "Resolving d37ci6vzurychx.cloudfront.net (d37ci6vzurychx.cloudfront.net)... 18.155.128.187, 18.155.128.222, 18.155.128.46, ...\n",
      "Connecting to d37ci6vzurychx.cloudfront.net (d37ci6vzurychx.cloudfront.net)|18.155.128.187|:443... connected.\n",
      "HTTP request sent, awaiting response... 200 OK\n",
      "Length: 12331 (12K) [text/csv]\n",
      "Saving to: ‘taxi_zone_lookup.csv’\n",
      "\n",
      "taxi_zone_lookup.cs 100%[===================>]  12.04K  --.-KB/s    in 0s      \n",
      "\n",
      "2025-03-05 18:22:42 (238 MB/s) - ‘taxi_zone_lookup.csv’ saved [12331/12331]\n",
      "\n"
     ]
    }
   ],
   "source": [
    "# 4 User interface\n",
    "!wget https://d37ci6vzurychx.cloudfront.net/misc/taxi_zone_lookup.csv"
   ]
  },
  {
   "cell_type": "code",
   "execution_count": 50,
   "id": "8eae02f2-5e43-4be0-8f15-75510944db91",
   "metadata": {},
   "outputs": [],
   "source": [
    "df_zone = spark.read.option(\"header\",\"true\").csv('taxi_zone_lookup.csv')"
   ]
  },
  {
   "cell_type": "code",
   "execution_count": 51,
   "id": "b6b25102-9180-4c32-a23a-6d3f91c273b6",
   "metadata": {},
   "outputs": [
    {
     "name": "stdout",
     "output_type": "stream",
     "text": [
      "+----------+-------------+--------------------+------------+\n",
      "|LocationID|      Borough|                Zone|service_zone|\n",
      "+----------+-------------+--------------------+------------+\n",
      "|         1|          EWR|      Newark Airport|         EWR|\n",
      "|         2|       Queens|         Jamaica Bay|   Boro Zone|\n",
      "|         3|        Bronx|Allerton/Pelham G...|   Boro Zone|\n",
      "|         4|    Manhattan|       Alphabet City| Yellow Zone|\n",
      "|         5|Staten Island|       Arden Heights|   Boro Zone|\n",
      "|         6|Staten Island|Arrochar/Fort Wad...|   Boro Zone|\n",
      "|         7|       Queens|             Astoria|   Boro Zone|\n",
      "|         8|       Queens|        Astoria Park|   Boro Zone|\n",
      "|         9|       Queens|          Auburndale|   Boro Zone|\n",
      "|        10|       Queens|        Baisley Park|   Boro Zone|\n",
      "|        11|     Brooklyn|          Bath Beach|   Boro Zone|\n",
      "|        12|    Manhattan|        Battery Park| Yellow Zone|\n",
      "|        13|    Manhattan|   Battery Park City| Yellow Zone|\n",
      "|        14|     Brooklyn|           Bay Ridge|   Boro Zone|\n",
      "|        15|       Queens|Bay Terrace/Fort ...|   Boro Zone|\n",
      "|        16|       Queens|             Bayside|   Boro Zone|\n",
      "|        17|     Brooklyn|             Bedford|   Boro Zone|\n",
      "|        18|        Bronx|        Bedford Park|   Boro Zone|\n",
      "|        19|       Queens|           Bellerose|   Boro Zone|\n",
      "|        20|        Bronx|             Belmont|   Boro Zone|\n",
      "+----------+-------------+--------------------+------------+\n",
      "only showing top 20 rows\n",
      "\n"
     ]
    }
   ],
   "source": [
    "df_zone.show()"
   ]
  },
  {
   "cell_type": "code",
   "execution_count": 56,
   "id": "891372db-5267-4ad6-ab65-946ad57d187e",
   "metadata": {},
   "outputs": [],
   "source": [
    "df_join = df.withColumnRenamed('PULocationID','LocationID') \\\n",
    "        .join(df_zone, on=['LocationID'], how='outer') \\\n",
    "        .select('LocationID','Borough','Zone','service_zone','tpep_pickup_datetime','tpep_dropoff_datetime')"
   ]
  },
  {
   "cell_type": "code",
   "execution_count": 57,
   "id": "6d6a384c-7a02-4a86-95f9-7af087bf6cd5",
   "metadata": {},
   "outputs": [
    {
     "name": "stderr",
     "output_type": "stream",
     "text": [
      "[Stage 135:==============>                                          (1 + 3) / 4]\r"
     ]
    },
    {
     "name": "stdout",
     "output_type": "stream",
     "text": [
      "+----------+-------+--------------+------------+--------------------+---------------------+\n",
      "|LocationID|Borough|          Zone|service_zone|tpep_pickup_datetime|tpep_dropoff_datetime|\n",
      "+----------+-------+--------------+------------+--------------------+---------------------+\n",
      "|         1|    EWR|Newark Airport|         EWR| 2024-10-05 14:21:33|  2024-10-05 14:21:43|\n",
      "|         1|    EWR|Newark Airport|         EWR| 2024-10-03 14:25:48|  2024-10-03 14:25:55|\n",
      "|         1|    EWR|Newark Airport|         EWR| 2024-10-03 13:56:39|  2024-10-03 13:56:44|\n",
      "|         1|    EWR|Newark Airport|         EWR| 2024-10-01 14:20:00|  2024-10-01 14:20:08|\n",
      "|         1|    EWR|Newark Airport|         EWR| 2024-10-06 12:56:08|  2024-10-06 12:56:14|\n",
      "|         1|    EWR|Newark Airport|         EWR| 2024-10-03 00:03:40|  2024-10-03 00:03:45|\n",
      "|         1|    EWR|Newark Airport|         EWR| 2024-10-02 18:21:24|  2024-10-02 18:22:21|\n",
      "|         1|    EWR|Newark Airport|         EWR| 2024-10-07 13:20:55|  2024-10-07 13:21:01|\n",
      "|         1|    EWR|Newark Airport|         EWR| 2024-10-06 09:37:00|  2024-10-06 09:37:45|\n",
      "|         1|    EWR|Newark Airport|         EWR| 2024-10-09 17:19:44|  2024-10-09 17:20:08|\n",
      "|         1|    EWR|Newark Airport|         EWR| 2024-10-03 20:45:28|  2024-10-03 20:45:38|\n",
      "|         1|    EWR|Newark Airport|         EWR| 2024-10-03 15:39:50|  2024-10-03 15:39:56|\n",
      "|         1|    EWR|Newark Airport|         EWR| 2024-10-04 16:44:22|  2024-10-04 16:44:31|\n",
      "|         1|    EWR|Newark Airport|         EWR| 2024-10-05 09:06:05|  2024-10-05 09:06:16|\n",
      "|         1|    EWR|Newark Airport|         EWR| 2024-10-01 17:30:06|  2024-10-01 17:30:22|\n",
      "|         1|    EWR|Newark Airport|         EWR| 2024-10-10 19:34:23|  2024-10-10 19:34:29|\n",
      "|         1|    EWR|Newark Airport|         EWR| 2024-10-01 18:33:59|  2024-10-01 18:34:06|\n",
      "|         1|    EWR|Newark Airport|         EWR| 2024-10-08 05:03:31|  2024-10-08 05:03:34|\n",
      "|         1|    EWR|Newark Airport|         EWR| 2024-10-05 08:16:40|  2024-10-05 08:16:47|\n",
      "|         1|    EWR|Newark Airport|         EWR| 2024-10-01 19:02:22|  2024-10-01 19:02:29|\n",
      "+----------+-------+--------------+------------+--------------------+---------------------+\n",
      "only showing top 20 rows\n",
      "\n"
     ]
    },
    {
     "name": "stderr",
     "output_type": "stream",
     "text": [
      "                                                                                \r"
     ]
    }
   ],
   "source": [
    "df_join.show()"
   ]
  },
  {
   "cell_type": "code",
   "execution_count": 59,
   "id": "d631329f-4f6d-4c0d-b980-e915cdfe15b0",
   "metadata": {},
   "outputs": [
    {
     "name": "stderr",
     "output_type": "stream",
     "text": [
      "[Stage 160:>                                                        (0 + 1) / 1]\r"
     ]
    },
    {
     "name": "stdout",
     "output_type": "stream",
     "text": [
      "+--------------------+-----+\n",
      "|                Zone|count|\n",
      "+--------------------+-----+\n",
      "|     Freshkills Park|    1|\n",
      "|    Great Kills Park|    1|\n",
      "|       Rikers Island|    2|\n",
      "|       Arden Heights|    2|\n",
      "|Governor's Island...|    3|\n",
      "|         Jamaica Bay|    3|\n",
      "| Green-Wood Cemetery|    3|\n",
      "|Eltingville/Annad...|    4|\n",
      "|   Rossville/Woodrow|    4|\n",
      "|       West Brighton|    4|\n",
      "|       Port Richmond|    4|\n",
      "|Charleston/Totten...|    4|\n",
      "|         Great Kills|    6|\n",
      "|        Crotona Park|    6|\n",
      "|     Mariners Harbor|    7|\n",
      "|Heartland Village...|    7|\n",
      "|Saint George/New ...|    9|\n",
      "|             Oakwood|    9|\n",
      "|       Broad Channel|   10|\n",
      "|New Dorp/Midland ...|   10|\n",
      "+--------------------+-----+\n",
      "only showing top 20 rows\n",
      "\n"
     ]
    },
    {
     "name": "stderr",
     "output_type": "stream",
     "text": [
      "                                                                                \r"
     ]
    }
   ],
   "source": [
    "# show the least frequent pickup zone\n",
    "df_join.groupby('Zone').count().orderBy(F.asc('count')).show()"
   ]
  },
  {
   "cell_type": "code",
   "execution_count": 64,
   "id": "4a055c67-b72b-422e-b8c3-7bffee96e729",
   "metadata": {},
   "outputs": [
    {
     "name": "stderr",
     "output_type": "stream",
     "text": [
      "                                                                                \r"
     ]
    },
    {
     "name": "stdout",
     "output_type": "stream",
     "text": [
      "+----------+-------------+----------------+------------+--------------------+---------------------+\n",
      "|LocationID|      Borough|            Zone|service_zone|tpep_pickup_datetime|tpep_dropoff_datetime|\n",
      "+----------+-------------+----------------+------------+--------------------+---------------------+\n",
      "|        99|Staten Island| Freshkills Park|   Boro Zone|                NULL|                 NULL|\n",
      "|       110|Staten Island|Great Kills Park|   Boro Zone|                NULL|                 NULL|\n",
      "+----------+-------------+----------------+------------+--------------------+---------------------+\n",
      "\n"
     ]
    }
   ],
   "source": [
    "# these seem to be invalid, let's filter bad data\n",
    "df_join.filter(F.col('Zone').isin('Freshkills Park','Great Kills Park') ).show()"
   ]
  },
  {
   "cell_type": "code",
   "execution_count": 67,
   "id": "666ddc24-f59f-4c96-a1d3-a9f9667bd6ab",
   "metadata": {},
   "outputs": [
    {
     "name": "stderr",
     "output_type": "stream",
     "text": [
      "[Stage 181:==============>                                          (1 + 3) / 4]\r"
     ]
    },
    {
     "name": "stdout",
     "output_type": "stream",
     "text": [
      "+--------------------+-----+\n",
      "|                Zone|count|\n",
      "+--------------------+-----+\n",
      "|Governor's Island...|    1|\n",
      "|       Arden Heights|    2|\n",
      "|       Rikers Island|    2|\n",
      "|         Jamaica Bay|    3|\n",
      "| Green-Wood Cemetery|    3|\n",
      "|Charleston/Totten...|    4|\n",
      "|   Rossville/Woodrow|    4|\n",
      "|       West Brighton|    4|\n",
      "|       Port Richmond|    4|\n",
      "|Eltingville/Annad...|    4|\n",
      "|         Great Kills|    6|\n",
      "|        Crotona Park|    6|\n",
      "|     Mariners Harbor|    7|\n",
      "|Heartland Village...|    7|\n",
      "|Saint George/New ...|    9|\n",
      "|             Oakwood|    9|\n",
      "|New Dorp/Midland ...|   10|\n",
      "|       Broad Channel|   10|\n",
      "|         Westerleigh|   12|\n",
      "|     Pelham Bay Park|   12|\n",
      "+--------------------+-----+\n",
      "only showing top 20 rows\n",
      "\n"
     ]
    },
    {
     "name": "stderr",
     "output_type": "stream",
     "text": [
      "                                                                                \r"
     ]
    }
   ],
   "source": [
    "df_join.filter(F.col('tpep_pickup_datetime').isNotNull() & F.col('tpep_dropoff_datetime').isNotNull() ) \\\n",
    "    .groupby('Zone') \\\n",
    "    .count() \\\n",
    "    .orderBy(F.asc('count')) \\\n",
    "    .limit(10) \\\n",
    "    .show()"
   ]
  },
  {
   "cell_type": "code",
   "execution_count": null,
   "id": "dbf69c12-a3f4-4079-a708-a2c6e7d3ed4a",
   "metadata": {},
   "outputs": [],
   "source": []
  }
 ],
 "metadata": {
  "kernelspec": {
   "display_name": "Python 3 (ipykernel)",
   "language": "python",
   "name": "python3"
  },
  "language_info": {
   "codemirror_mode": {
    "name": "ipython",
    "version": 3
   },
   "file_extension": ".py",
   "mimetype": "text/x-python",
   "name": "python",
   "nbconvert_exporter": "python",
   "pygments_lexer": "ipython3",
   "version": "3.12.2"
  }
 },
 "nbformat": 4,
 "nbformat_minor": 5
}
